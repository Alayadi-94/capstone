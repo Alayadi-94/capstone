{
 "cells": [
  {
   "cell_type": "markdown",
   "id": "6df48d1d",
   "metadata": {},
   "source": [
    "### Capstone Module Assignment"
   ]
  },
  {
   "cell_type": "markdown",
   "id": "6a0f2b52",
   "metadata": {},
   "source": [
    "This Notebook will contain the Capstone Assignment"
   ]
  },
  {
   "cell_type": "code",
   "execution_count": 1,
   "id": "b2c86df4",
   "metadata": {},
   "outputs": [],
   "source": [
    "import pandas as pd\n",
    "import numpy as np"
   ]
  },
  {
   "cell_type": "code",
   "execution_count": 7,
   "id": "9b4de96d",
   "metadata": {},
   "outputs": [
    {
     "name": "stdout",
     "output_type": "stream",
     "text": [
      "Hello Capstone Project Course!\n"
     ]
    }
   ],
   "source": [
    "print('Hello Capstone Project Course!')"
   ]
  }
 ],
 "metadata": {
  "kernelspec": {
   "display_name": "Python 3",
   "language": "python",
   "name": "python3"
  },
  "language_info": {
   "codemirror_mode": {
    "name": "ipython",
    "version": 3
   },
   "file_extension": ".py",
   "mimetype": "text/x-python",
   "name": "python",
   "nbconvert_exporter": "python",
   "pygments_lexer": "ipython3",
   "version": "3.8.8"
  }
 },
 "nbformat": 4,
 "nbformat_minor": 5
}
