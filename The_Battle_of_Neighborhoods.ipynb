{
 "cells": [
  {
   "cell_type": "markdown",
   "id": "15f62a53",
   "metadata": {},
   "source": [
    "# The Battle of Neighborhoods"
   ]
  },
  {
   "cell_type": "markdown",
   "id": "6f01ecde",
   "metadata": {},
   "source": [
    "### 1 - Description"
   ]
  },
  {
   "cell_type": "markdown",
   "id": "fd12934f",
   "metadata": {},
   "source": [
    "In this project we will compare neighborhoods of different cities based on the venues each neighborhood contains. The question we will be answering is: Are neighborhoods in one cities more similar to each other than they are similar to neighborhoods in other cities? Would city centers cluster together?\n",
    "\n",
    "In other part, we will be trying to provide an advice for an entrepreneur regarding where they should open a restaurent. We will be looking at the density of restaurants in each neighborhood. We assume that a restauant will be more profitable in an area with a low density of restaurents. "
   ]
  },
  {
   "cell_type": "markdown",
   "id": "db033097",
   "metadata": {},
   "source": [
    "### 2 - Data requirements"
   ]
  },
  {
   "cell_type": "markdown",
   "id": "c6c19a77",
   "metadata": {},
   "source": [
    "The data we will require is: \n",
    "- A List of the neighborhoods in each city with \n",
    "- Venues data for each location will be retrived using the Foursquare API\n",
    "\n",
    "The required libraries: \n",
    "- Pandas \n",
    "- Numpy\n",
    "- Sklearn and more specifically the kmeans method\n",
    "- Geocoder to obtain the location of each neighborhood\n",
    "- BeautifulSoup to scrap data from wikipedia for the city of Toronto and maybe other cities"
   ]
  },
  {
   "cell_type": "code",
   "execution_count": null,
   "id": "ced50871",
   "metadata": {},
   "outputs": [],
   "source": []
  }
 ],
 "metadata": {
  "kernelspec": {
   "display_name": "Python 3",
   "language": "python",
   "name": "python3"
  },
  "language_info": {
   "codemirror_mode": {
    "name": "ipython",
    "version": 3
   },
   "file_extension": ".py",
   "mimetype": "text/x-python",
   "name": "python",
   "nbconvert_exporter": "python",
   "pygments_lexer": "ipython3",
   "version": "3.8.8"
  }
 },
 "nbformat": 4,
 "nbformat_minor": 5
}
